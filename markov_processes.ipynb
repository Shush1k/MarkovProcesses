{
 "cells": [
  {
   "cell_type": "markdown",
   "metadata": {},
   "source": [
    "### Контрольная работа\n",
    "### Вариант 52\n",
    "### Выполнил: Баранов А.В. ПИ19-3 "
   ]
  },
  {
   "cell_type": "code",
   "execution_count": 1,
   "metadata": {},
   "outputs": [],
   "source": [
    "import numpy as np\n",
    "from functools import lru_cache\n",
    "\n",
    "def task1(matrix, k):\n",
    "    \"\"\"\n",
    "    Вероятность перехода из состояния i в j за k шагов\n",
    "\n",
    "    Args:\n",
    "        matrix (numpy.ndarray): матрица переходов\n",
    "        k (int): кол-во шагов\n",
    "    \"\"\"\n",
    "    return np.linalg.matrix_power(matrix, k)\n",
    "\n",
    "\n",
    "def task2(matrix, a_0, k):\n",
    "    \"\"\"\n",
    "    Вероятность состояния за k шагов\n",
    "\n",
    "    Args:\n",
    "        matrix (numpy.ndarray): матрица переходов\n",
    "        a_0 (numpy.ndarray): вероятности состояние в начальный момент времениъ\n",
    "        k (int): кол-во шагов\n",
    "    \"\"\"\n",
    "    return a_0.dot(np.linalg.matrix_power(matrix, k))\n",
    "\n",
    "def task3(matrix, k):\n",
    "    \"\"\"\n",
    "    Вероятность первого перехода за k шагов\n",
    "\n",
    "    Args:\n",
    "        matrix (numpy.ndarray): матрица переходов\n",
    "        k (int): кол-во шагов\n",
    "    \"\"\"\n",
    "    matrix_p = np.copy(matrix)\n",
    "    for _ in range(1, k):\n",
    "        matrix_p = skip_j_state(matrix, matrix_p)\n",
    "    return matrix_p\n",
    "\n",
    "def skip_j_state(matrix, matrix_pr):\n",
    "    \"\"\"\n",
    "    Пропуск j состояния\n",
    "\n",
    "    Args:\n",
    "        matrix (numpy.ndarray): матрица переходов\n",
    "        matrix_pr (numpy.ndarray): матрица переходов предыдущая\n",
    "    \"\"\"\n",
    "    len_p = len(matrix)\n",
    "    new_matrix = np.zeros((len_p, len_p))\n",
    "    for i in range(len_p):\n",
    "        for j in range(len_p):\n",
    "            s = 0\n",
    "            for m in range(len_p):\n",
    "                if m != j:\n",
    "                    s += matrix[i, m] * matrix_pr[m, j]\n",
    "            new_matrix[i, j] = s\n",
    "    return new_matrix\n",
    "\n",
    "def task4(matrix, k):\n",
    "    \"\"\"\n",
    "    Вероятность перехода не позднее чем за k шагов\n",
    "\n",
    "    Args:\n",
    "        matrix (numpy.ndarray): матрица переходов\n",
    "        k (int): кол-во шагов\n",
    "    \"\"\"\n",
    "    matrix_pr, result = np.copy(matrix), np.copy(matrix)\n",
    "    for _ in range(1, k):\n",
    "        matrix_pr = skip_j_state(matrix, matrix_pr)\n",
    "        result+= matrix_pr\n",
    "    return result\n",
    "\n",
    "def task5(matrix):\n",
    "    \"\"\"\n",
    "    Среднее количество шагов для перехода из состояния i в j\n",
    "\n",
    "    Args:\n",
    "        matrix (numpy.ndarray): матрица переходов\n",
    "    \"\"\"\n",
    "    matrix_pr, result = np.copy(matrix), np.copy(matrix)\n",
    "    for g in range(1, 1500):\n",
    "        matrix_pr = skip_j_state(matrix, matrix_pr)\n",
    "        result += g * matrix_pr\n",
    "    return result\n",
    "\n",
    "def task6(matrix, k):\n",
    "    \"\"\"\n",
    "    Вероятность первого возвращения на k-ом шаге\n",
    "\n",
    "    Args:\n",
    "        matrix (numpy.ndarray): матрица переходов\n",
    "        k (int): кол-во шагов\n",
    "    \"\"\"\n",
    "    matrix_pr = np.copy(matrix)\n",
    "    @lru_cache(maxsize=None)\n",
    "    def f_jj(k):\n",
    "        return np.linalg.matrix_power(matrix_pr, k) - sum([f_jj(m) * np.linalg.matrix_power(matrix_pr, k - m) for m in range(1, k)])\n",
    "\n",
    "    return np.diagonal(f_jj(k))\n",
    "\n",
    "def task7(matrix, k):\n",
    "    \"\"\"\n",
    "    Вероятность возвращения не позднее чем за k шагов\n",
    "    \n",
    "    Args:\n",
    "        matrix (numpy.ndarray): матрица переходов\n",
    "        k (int): кол-во шагов\n",
    "    \"\"\"\n",
    "    matrix_pr = np.copy(matrix)\n",
    "    result = []\n",
    "\n",
    "    @lru_cache(maxsize=None)\n",
    "    def f_jj(k):\n",
    "        res = np.linalg.matrix_power(matrix_pr, k) - sum([f_jj(m) * np.linalg.matrix_power(matrix_pr, k - m) for m in range(1, k)])\n",
    "        result.append(np.diagonal(res))\n",
    "        return res\n",
    "\n",
    "    f_jj(k)\n",
    "    return sum(result)\n",
    "\n",
    "def task8(matrix):\n",
    "    \"\"\"\n",
    "    Среднее время возвращения\n",
    "    \n",
    "    Args:\n",
    "        matrix (numpy.ndarray): матрица переходов\n",
    "    \"\"\"\n",
    "    matrix_pr, result = np.copy(matrix), []\n",
    "\n",
    "    @lru_cache(maxsize=None)\n",
    "    def f_jj(k=500):\n",
    "        res = np.linalg.matrix_power(matrix_pr, k) - sum([f_jj(m) * np.linalg.matrix_power(matrix_pr, k - m) for m in range(1, k)])\n",
    "        result.append(k * np.diagonal(res))\n",
    "        return res\n",
    "    f_jj()\n",
    "    return sum(result)\n",
    "\n",
    "def task9(matrix):\n",
    "    \"\"\"\n",
    "    Установившиеся вероятности\n",
    "    \n",
    "    Args:\n",
    "        matrix (numpy.ndarray): матрица переходов\n",
    "    \"\"\"\n",
    "    matrix_ = np.copy(matrix).transpose()\n",
    "    np.fill_diagonal(matrix_, np.diagonal(matrix_) - 1)\n",
    "    matrix_[-1, :] = 1\n",
    "\n",
    "    b_vector = np.zeros(len(matrix))\n",
    "    b_vector[-1] = 1\n",
    "    X = np.linalg.inv(matrix_).dot(b_vector)\n",
    "    return X"
   ]
  },
  {
   "cell_type": "code",
   "execution_count": 2,
   "metadata": {},
   "outputs": [
    {
     "name": "stdout",
     "output_type": "stream",
     "text": [
      "Матрица переходов:\n",
      "[[0.05 0.06 0.   0.   0.3  0.2  0.39 0.   0.   0.   0.   0.   0.   0.  ]\n",
      " [0.   0.39 0.   0.   0.45 0.   0.16 0.   0.   0.   0.   0.   0.   0.  ]\n",
      " [0.   0.49 0.14 0.37 0.   0.   0.   0.   0.   0.   0.   0.   0.   0.  ]\n",
      " [0.   0.   0.35 0.39 0.24 0.   0.02 0.   0.   0.   0.   0.   0.   0.  ]\n",
      " [0.01 0.   0.12 0.17 0.04 0.09 0.   0.14 0.19 0.08 0.16 0.   0.   0.  ]\n",
      " [0.   0.12 0.   0.   0.   0.06 0.   0.39 0.14 0.   0.29 0.   0.   0.  ]\n",
      " [0.   0.52 0.42 0.   0.   0.   0.06 0.   0.   0.   0.   0.   0.   0.  ]\n",
      " [0.   0.   0.   0.   0.   0.26 0.   0.08 0.66 0.   0.   0.   0.   0.  ]\n",
      " [0.   0.   0.   0.   0.   0.23 0.   0.28 0.22 0.   0.   0.27 0.   0.  ]\n",
      " [0.   0.   0.   0.   0.32 0.   0.62 0.   0.   0.06 0.   0.   0.   0.  ]\n",
      " [0.   0.   0.   0.   0.74 0.   0.16 0.   0.   0.   0.1  0.   0.   0.  ]\n",
      " [0.   0.   0.   0.   0.   0.   0.   0.19 0.   0.24 0.19 0.09 0.   0.29]\n",
      " [0.   0.   0.   0.   0.   0.   0.   0.   0.   0.   0.   0.   0.12 0.88]\n",
      " [0.   0.   0.   0.   0.   0.   0.   0.   0.   0.   0.   0.33 0.6  0.07]] \n",
      "\n"
     ]
    }
   ],
   "source": [
    "matrix = np.array([\n",
    "    [0.05, 0.06, 0, 0, 0.3, 0.2, 0.39, 0, 0, 0, 0, 0, 0, 0],\n",
    "    [0, 0.39, 0, 0, 0.45, 0, 0.16, 0, 0, 0, 0, 0, 0, 0],\n",
    "    [0, 0.49, 0.14, 0.37, 0, 0, 0, 0, 0, 0, 0, 0, 0, 0],\n",
    "    [0, 0, 0.35, 0.39, 0.24, 0, 0.02, 0, 0, 0, 0, 0, 0, 0],\n",
    "    [0.01, 0, 0.12, 0.17, 0.04, 0.09, 0, 0.14, 0.19, 0.08, 0.16, 0, 0, 0],\n",
    "    [0, 0.12, 0, 0, 0, 0.06, 0, 0.39, 0.14, 0, 0.29, 0, 0, 0],\n",
    "    [0, 0.52, 0.42, 0, 0, 0, 0.06, 0, 0, 0, 0, 0, 0, 0],\n",
    "    [0, 0, 0, 0, 0, 0.26, 0, 0.08, 0.66, 0, 0, 0, 0, 0],\n",
    "    [0, 0, 0, 0, 0, 0.23, 0, 0.28, 0.22, 0, 0, 0.27, 0, 0],\n",
    "    [0, 0, 0, 0, 0.32, 0, 0.62, 0, 0, 0.06, 0, 0, 0, 0],\n",
    "    [0, 0, 0, 0, 0.74, 0, 0.16, 0, 0, 0, 0.1, 0, 0, 0],\n",
    "    [0, 0, 0, 0, 0, 0, 0, 0.19, 0, 0.24, 0.19, 0.09, 0, 0.29],\n",
    "    [0, 0, 0, 0, 0, 0, 0, 0, 0, 0, 0, 0, 0.12, 0.88],\n",
    "    [0, 0, 0, 0, 0, 0, 0, 0, 0, 0, 0, 0.33, 0.6, 0.07]\n",
    "])\n",
    "\n",
    "print(\"Матрица переходов:\")\n",
    "print(matrix, \"\\n\")"
   ]
  },
  {
   "cell_type": "markdown",
   "metadata": {},
   "source": [
    "#### Задание 1\n",
    "вероятность того, что за 10 шагов система перейдет из состояния 7 в состояние 4;"
   ]
  },
  {
   "cell_type": "code",
   "execution_count": 3,
   "metadata": {},
   "outputs": [
    {
     "name": "stdout",
     "output_type": "stream",
     "text": [
      "Вероятность того, что за k=10 шагов система перейдет из состояния 7 в состояние 4 \n",
      "--> 0.10162746166399798\n"
     ]
    }
   ],
   "source": [
    "k, i, j = 10, 7, 4\n",
    "answer1 = task1(matrix, k)\n",
    "print(f\"Вероятность того, что за k={k} шагов система перейдет из состояния {i} в состояние {j} \\n--> {answer1[i-1][j-1]}\")"
   ]
  },
  {
   "cell_type": "markdown",
   "metadata": {},
   "source": [
    "#### Задание 2\n",
    "вероятности состояний системы спустя 5 шагов, если в начальный момент вероятность состояний были следующими \n",
    "\n",
    "A=(0,09;0,14;0,09;0,11;0,03;0,03;0,15;0,05;0,01;0,03;0,01;0,14;0,1;0,02);"
   ]
  },
  {
   "cell_type": "code",
   "execution_count": 4,
   "metadata": {},
   "outputs": [
    {
     "name": "stdout",
     "output_type": "stream",
     "text": [
      "Вероятности состояний системы спустя k=5 шагов, если в начальный момент вероятность состояний были следующими \n",
      "A=[0.09 0.14 0.09 0.11 0.03 0.03 0.15 0.05 0.01 0.03 0.01 0.14 0.1  0.02]\n",
      "\n",
      "Ответ: [0.00155962 0.13490165 0.08862983 0.09685694 0.1380779  0.06002486\n",
      " 0.05048925 0.08737445 0.10836418 0.02673672 0.05533782 0.04723356\n",
      " 0.03389584 0.07051738]\n"
     ]
    }
   ],
   "source": [
    "k = 5\n",
    "a_0 = np.array([0.09, 0.14, 0.09, 0.11, 0.03, 0.03, 0.15, 0.05, 0.01, 0.03, 0.01, 0.14, 0.1, 0.02])\n",
    "answer2 = task2(matrix, a_0, k)\n",
    "print(f\"Вероятности состояний системы спустя k={k} шагов, если в начальный \"\n",
    "      f\"момент вероятность состояний были следующими \\nA={a_0}\\n\\nОтвет: {answer2}\")"
   ]
  },
  {
   "cell_type": "markdown",
   "metadata": {},
   "source": [
    "#### Задание 3\n",
    "вероятность первого перехода за 7 шагов из состояния 10 в состояние 11;"
   ]
  },
  {
   "cell_type": "code",
   "execution_count": 5,
   "metadata": {},
   "outputs": [
    {
     "name": "stdout",
     "output_type": "stream",
     "text": [
      "Вероятность первого перехода за k=7 шагов из состояния 10 в состояние 11 \n",
      "--> 0.040633891945480005\n"
     ]
    }
   ],
   "source": [
    "k, i, j = 7, 10, 11\n",
    "answer3 = task3(matrix, k)\n",
    "print(f\"Вероятность первого перехода за k={k} шагов из состояния {i} в состояние {j} \\n--> {answer3[i-1][j-1]}\")"
   ]
  },
  {
   "cell_type": "markdown",
   "metadata": {},
   "source": [
    "#### Задание 4 \n",
    "вероятность перехода из состояния 7 в состояние 9 не позднее чем за 10 шагов;"
   ]
  },
  {
   "cell_type": "code",
   "execution_count": 6,
   "metadata": {},
   "outputs": [
    {
     "name": "stdout",
     "output_type": "stream",
     "text": [
      "Вероятность перехода из состояния 7 в состояние 9 не позднее чем за k=10 шагов \n",
      "--> 0.47037869358284934\n"
     ]
    }
   ],
   "source": [
    "i, j, k = 7, 9, 10\n",
    "answer4 = task4(matrix, k)\n",
    "print(f\"Вероятность перехода из состояния {i} в состояние {j} не позднее чем за k={k} шагов \\n--> {answer4[i-1][j-1]}\")"
   ]
  },
  {
   "cell_type": "markdown",
   "metadata": {},
   "source": [
    "#### Задание 5\n",
    "среднее количество шагов для перехода из состояния 8 в состояние 10;"
   ]
  },
  {
   "cell_type": "code",
   "execution_count": 7,
   "metadata": {},
   "outputs": [
    {
     "name": "stdout",
     "output_type": "stream",
     "text": [
      "Среднее количество шагов для перехода из состояния 8 в состояние 10 \n",
      "--> 36.97986395057343\n"
     ]
    }
   ],
   "source": [
    "i, j = 8, 10\n",
    "answer5 = task5(matrix)\n",
    "print(f\"Среднее количество шагов для перехода из состояния {i} в состояние {j} \\n--> {answer5[i-1][j-1]}\")"
   ]
  },
  {
   "cell_type": "markdown",
   "metadata": {},
   "source": [
    "#### Задание 6\n",
    "вероятность первого возвращения в состояние 7 за 6 шагов;"
   ]
  },
  {
   "cell_type": "code",
   "execution_count": 8,
   "metadata": {},
   "outputs": [
    {
     "name": "stdout",
     "output_type": "stream",
     "text": [
      "Вероятность первого возвращения в состояние 7 за k=6 шагов\n",
      "--> 0.034992970596\n"
     ]
    }
   ],
   "source": [
    "i, k = 7, 6\n",
    "answer6 = task6(matrix, k)\n",
    "print(f\"Вероятность первого возвращения в состояние {i} за k={k} шагов\\n--> {answer6[i-1]}\")"
   ]
  },
  {
   "cell_type": "markdown",
   "metadata": {},
   "source": [
    "#### Задание 7\n",
    "вероятность возвращения в состояние 2 не позднее чем за 10 шагов;"
   ]
  },
  {
   "cell_type": "code",
   "execution_count": 9,
   "metadata": {},
   "outputs": [
    {
     "name": "stdout",
     "output_type": "stream",
     "text": [
      "Вероятность возвращения в состояние 2 не позднее чем за k=10 шагов\n",
      "--> 0.7550709963020747\n"
     ]
    }
   ],
   "source": [
    "i, k = 2, 10\n",
    "answer7 = task7(matrix, k)\n",
    "print(f\"Вероятность возвращения в состояние {i} не позднее чем за k={k} шагов\\n--> {answer7[i-1]}\")"
   ]
  },
  {
   "cell_type": "markdown",
   "metadata": {},
   "source": [
    "#### Задание 8\n",
    "среднее время возвращения в состояние 7;"
   ]
  },
  {
   "cell_type": "code",
   "execution_count": 10,
   "metadata": {},
   "outputs": [
    {
     "name": "stdout",
     "output_type": "stream",
     "text": [
      "Среднее время возвращения в состояние 7 \n",
      "--> 20.10885080185027\n"
     ]
    }
   ],
   "source": [
    "i = 7\n",
    "answer8 = task8(matrix)\n",
    "print(f\"Среднее время возвращения в состояние {i} \\n--> {answer8[i-1]}\")"
   ]
  },
  {
   "cell_type": "markdown",
   "metadata": {},
   "source": [
    "#### Задание 9\n",
    "установившиеся вероятности."
   ]
  },
  {
   "cell_type": "code",
   "execution_count": 11,
   "metadata": {},
   "outputs": [
    {
     "name": "stdout",
     "output_type": "stream",
     "text": [
      "Установившиеся вероятности:\n",
      "--> [0.00138007 0.11839194 0.0762807  0.08280653 0.13110661 0.07416231\n",
      " 0.04972935 0.10389014 0.13315445 0.0259631  0.0594462  0.05798662\n",
      " 0.03474405 0.05095793]\n"
     ]
    }
   ],
   "source": [
    "answer9 = task9(matrix)\n",
    "print(f\"Установившиеся вероятности:\\n--> {answer9}\")"
   ]
  },
  {
   "cell_type": "markdown",
   "metadata": {},
   "source": [
    "## Задание 2\n",
    "Задана система массового обслуживания со следующими характеристиками:\n",
    "* интенсивность поступления λ=10 \n",
    "* каналов обслуживания m=7 \n",
    "* интенсивность обслуживания μ=1 \n",
    "* максимальный размер очереди n=15\n",
    "\n",
    "Изначально требований в системе нет."
   ]
  },
  {
   "cell_type": "code",
   "execution_count": 12,
   "metadata": {},
   "outputs": [],
   "source": [
    "import numpy as np\n",
    "def create_matrix(L, m, u, n):\n",
    "    \"\"\"\n",
    "    Создание матрицы по заданным параметрам\n",
    "\n",
    "    Args:\n",
    "        L (int): интенсивность поступления λ\n",
    "        m (int): кол-во каналов обслуживания m\n",
    "        u (int): интенсивность обслуживания μ\n",
    "        n (int): максимальный размер очереди\n",
    "    \"\"\"\n",
    "    p_matrix = np.zeros((m + n + 1, m + n + 1))\n",
    "    for i in range(m + n):\n",
    "        p_matrix[i, i+1] = L\n",
    "        if i < m:\n",
    "            p_matrix[i + 1, i] = (u * (i + 1))\n",
    "        else:\n",
    "            p_matrix[i + 1, i] = u*m\n",
    "    return p_matrix\n",
    "\n",
    "def task_a(matrix):\n",
    "    \"\"\"\n",
    "    Установившиеся вероятности\n",
    "    \"\"\"\n",
    "    diag_res = []\n",
    "    for i in range(matrix.shape[0]):\n",
    "        diag_res.append(matrix[i, :].sum())\n",
    "    \n",
    "    D = np.diag(diag_res)\n",
    "    M = matrix.transpose() - D\n",
    "    M_ = np.copy(M)\n",
    "    M_[-1, :] = 1\n",
    "\n",
    "    b_vector = np.zeros(M_.shape[0])\n",
    "    b_vector[-1] = 1\n",
    "    X = np.linalg.inv(M_).dot(b_vector)\n",
    "    return X\n",
    "\n",
    "def task_b(vector):\n",
    "    \"\"\"\n",
    "    Вероятность отказа в обслуживании\n",
    "    \"\"\"\n",
    "    return vector[-1]\n",
    "\n",
    "def task_c(vector, L):\n",
    "    \"\"\"\n",
    "    Относительная и абсолютная интенсивность обслуживания\n",
    "    \"\"\"\n",
    "    relative = 1 - vector[-1]\n",
    "    return relative, relative * L\n",
    "\n",
    "def task_d(vector, m, n):\n",
    "    \"\"\"\n",
    "    Средняя длина очереди\n",
    "    \"\"\"\n",
    "    s = 0\n",
    "    for i in range(1, n+1):\n",
    "        s+=i * vector[m+i]\n",
    "    return s\n",
    "\n",
    "\n",
    "def task_e(vector, m, u, n):\n",
    "    \"\"\"\n",
    "    Среднее время в очереди\n",
    "    \"\"\"\n",
    "    s = 0\n",
    "    for i in range(n):\n",
    "        s+= ((i+1)/(m*u)*vector[m+i])\n",
    "    return s\n",
    "\n",
    "def task_f(vector, m, n):\n",
    "    \"\"\"\n",
    "    Среднее число занятых каналов\n",
    "    \"\"\"\n",
    "    s = 0\n",
    "    for i in range(1, m+n+1):\n",
    "        if i <= m:\n",
    "            s+= i * vector[i]\n",
    "        else:\n",
    "            s+= m * vector[i]\n",
    "    return s\n",
    "\n",
    "\n",
    "def task_g(vector, m):\n",
    "    \"\"\"\n",
    "    Вероятность не ждать в очереди\n",
    "    \"\"\"\n",
    "    return sum(vector[:m])\n",
    "\n",
    "\n",
    "def task_h(matrix):\n",
    "    \"\"\"\n",
    "    Среднее время простоя системы массового обслуживания\n",
    "    \"\"\"\n",
    "    return 1 / np.sum(matrix, -1)"
   ]
  },
  {
   "cell_type": "code",
   "execution_count": 13,
   "metadata": {},
   "outputs": [
    {
     "name": "stdout",
     "output_type": "stream",
     "text": [
      "Матрица переходов:\n",
      "[[ 0. 10.  0.  0.  0.  0.  0.  0.  0.  0.  0.  0.  0.  0.  0.  0.  0.  0.\n",
      "   0.  0.  0.  0.  0.]\n",
      " [ 1.  0. 10.  0.  0.  0.  0.  0.  0.  0.  0.  0.  0.  0.  0.  0.  0.  0.\n",
      "   0.  0.  0.  0.  0.]\n",
      " [ 0.  2.  0. 10.  0.  0.  0.  0.  0.  0.  0.  0.  0.  0.  0.  0.  0.  0.\n",
      "   0.  0.  0.  0.  0.]\n",
      " [ 0.  0.  3.  0. 10.  0.  0.  0.  0.  0.  0.  0.  0.  0.  0.  0.  0.  0.\n",
      "   0.  0.  0.  0.  0.]\n",
      " [ 0.  0.  0.  4.  0. 10.  0.  0.  0.  0.  0.  0.  0.  0.  0.  0.  0.  0.\n",
      "   0.  0.  0.  0.  0.]\n",
      " [ 0.  0.  0.  0.  5.  0. 10.  0.  0.  0.  0.  0.  0.  0.  0.  0.  0.  0.\n",
      "   0.  0.  0.  0.  0.]\n",
      " [ 0.  0.  0.  0.  0.  6.  0. 10.  0.  0.  0.  0.  0.  0.  0.  0.  0.  0.\n",
      "   0.  0.  0.  0.  0.]\n",
      " [ 0.  0.  0.  0.  0.  0.  7.  0. 10.  0.  0.  0.  0.  0.  0.  0.  0.  0.\n",
      "   0.  0.  0.  0.  0.]\n",
      " [ 0.  0.  0.  0.  0.  0.  0.  7.  0. 10.  0.  0.  0.  0.  0.  0.  0.  0.\n",
      "   0.  0.  0.  0.  0.]\n",
      " [ 0.  0.  0.  0.  0.  0.  0.  0.  7.  0. 10.  0.  0.  0.  0.  0.  0.  0.\n",
      "   0.  0.  0.  0.  0.]\n",
      " [ 0.  0.  0.  0.  0.  0.  0.  0.  0.  7.  0. 10.  0.  0.  0.  0.  0.  0.\n",
      "   0.  0.  0.  0.  0.]\n",
      " [ 0.  0.  0.  0.  0.  0.  0.  0.  0.  0.  7.  0. 10.  0.  0.  0.  0.  0.\n",
      "   0.  0.  0.  0.  0.]\n",
      " [ 0.  0.  0.  0.  0.  0.  0.  0.  0.  0.  0.  7.  0. 10.  0.  0.  0.  0.\n",
      "   0.  0.  0.  0.  0.]\n",
      " [ 0.  0.  0.  0.  0.  0.  0.  0.  0.  0.  0.  0.  7.  0. 10.  0.  0.  0.\n",
      "   0.  0.  0.  0.  0.]\n",
      " [ 0.  0.  0.  0.  0.  0.  0.  0.  0.  0.  0.  0.  0.  7.  0. 10.  0.  0.\n",
      "   0.  0.  0.  0.  0.]\n",
      " [ 0.  0.  0.  0.  0.  0.  0.  0.  0.  0.  0.  0.  0.  0.  7.  0. 10.  0.\n",
      "   0.  0.  0.  0.  0.]\n",
      " [ 0.  0.  0.  0.  0.  0.  0.  0.  0.  0.  0.  0.  0.  0.  0.  7.  0. 10.\n",
      "   0.  0.  0.  0.  0.]\n",
      " [ 0.  0.  0.  0.  0.  0.  0.  0.  0.  0.  0.  0.  0.  0.  0.  0.  7.  0.\n",
      "  10.  0.  0.  0.  0.]\n",
      " [ 0.  0.  0.  0.  0.  0.  0.  0.  0.  0.  0.  0.  0.  0.  0.  0.  0.  7.\n",
      "   0. 10.  0.  0.  0.]\n",
      " [ 0.  0.  0.  0.  0.  0.  0.  0.  0.  0.  0.  0.  0.  0.  0.  0.  0.  0.\n",
      "   7.  0. 10.  0.  0.]\n",
      " [ 0.  0.  0.  0.  0.  0.  0.  0.  0.  0.  0.  0.  0.  0.  0.  0.  0.  0.\n",
      "   0.  7.  0. 10.  0.]\n",
      " [ 0.  0.  0.  0.  0.  0.  0.  0.  0.  0.  0.  0.  0.  0.  0.  0.  0.  0.\n",
      "   0.  0.  7.  0. 10.]\n",
      " [ 0.  0.  0.  0.  0.  0.  0.  0.  0.  0.  0.  0.  0.  0.  0.  0.  0.  0.\n",
      "   0.  0.  0.  7.  0.]]\n"
     ]
    }
   ],
   "source": [
    "L = 10\n",
    "m = 7\n",
    "u = 1\n",
    "n = 15\n",
    "matrix = create_matrix(L, m, u, n)\n",
    "print(\"Матрица переходов:\")\n",
    "print(matrix)"
   ]
  },
  {
   "cell_type": "markdown",
   "metadata": {},
   "source": [
    "#### Задание а\n",
    "Составьте граф марковского процесса, запишите систему уравнений Колмогорова и найдите установившиеся вероятности состояний."
   ]
  },
  {
   "cell_type": "markdown",
   "metadata": {},
   "source": [
    "![task_a](task_a.png)"
   ]
  },
  {
   "cell_type": "code",
   "execution_count": 14,
   "metadata": {},
   "outputs": [
    {
     "name": "stdout",
     "output_type": "stream",
     "text": [
      "Составьте граф марковского процесса, запишите систему уравнений Колмогорова и найдите установившиеся вероятности состояний:\n",
      "--> [7.18740931e-07 7.18740931e-06 3.59370466e-05 1.19790155e-04\n",
      " 2.99475388e-04 5.98950776e-04 9.98251294e-04 1.42607328e-03\n",
      " 2.03724754e-03 2.91035363e-03 4.15764804e-03 5.93949720e-03\n",
      " 8.48499599e-03 1.21214228e-02 1.73163184e-02 2.47375977e-02\n",
      " 3.53394252e-02 5.04848932e-02 7.21212759e-02 1.03030394e-01\n",
      " 1.47186277e-01 2.10266111e-01 3.00380158e-01]\n"
     ]
    }
   ],
   "source": [
    "vector = task_a(matrix)\n",
    "print(f\"Составьте граф марковского процесса, запишите систему уравнений Колмогорова и \\\n",
    "найдите установившиеся вероятности состояний:\\n--> {vector}\")"
   ]
  },
  {
   "cell_type": "markdown",
   "metadata": {},
   "source": [
    "#### Задание b\n",
    "Найдите вероятность отказа в обслуживании."
   ]
  },
  {
   "cell_type": "code",
   "execution_count": 15,
   "metadata": {},
   "outputs": [
    {
     "name": "stdout",
     "output_type": "stream",
     "text": [
      "Найдите вероятность отказа в обслуживании:\n",
      "--> 0.30038015805067136\n"
     ]
    }
   ],
   "source": [
    "answer_b = task_b(vector)\n",
    "print(f\"Найдите вероятность отказа в обслуживании:\\n--> {answer_b}\")"
   ]
  },
  {
   "cell_type": "markdown",
   "metadata": {},
   "source": [
    "#### Задание c\n",
    "Найдите относительную и абсолютную интенсивность обслуживания."
   ]
  },
  {
   "cell_type": "code",
   "execution_count": 16,
   "metadata": {},
   "outputs": [
    {
     "name": "stdout",
     "output_type": "stream",
     "text": [
      "Найдите относительную и абсолютную интенсивность обслуживания:\n",
      "Относительная: 0.6996198419493287\n",
      "Абсолютная: 6.996198419493287\n"
     ]
    }
   ],
   "source": [
    "relative, absolute = task_c(vector, L)\n",
    "print(\"Найдите относительную и абсолютную интенсивность обслуживания:\")\n",
    "print(f\"Относительная: {relative}\\nАбсолютная: {absolute}\")"
   ]
  },
  {
   "cell_type": "markdown",
   "metadata": {},
   "source": [
    "#### Задание d\n",
    "Найдите среднюю длину в очереди."
   ]
  },
  {
   "cell_type": "code",
   "execution_count": 17,
   "metadata": {},
   "outputs": [
    {
     "name": "stdout",
     "output_type": "stream",
     "text": [
      "Найдите среднюю длину в очереди:\n",
      "--> 12.693809465402772\n"
     ]
    }
   ],
   "source": [
    "answer_d = task_d(vector, m, n)\n",
    "print(f\"Найдите среднюю длину в очереди:\\n--> {answer_d}\")"
   ]
  },
  {
   "cell_type": "markdown",
   "metadata": {},
   "source": [
    "#### Задание e\n",
    "Найдите среднее время в очереди."
   ]
  },
  {
   "cell_type": "code",
   "execution_count": 18,
   "metadata": {},
   "outputs": [
    {
     "name": "stdout",
     "output_type": "stream",
     "text": [
      "Найдите среднее время в очереди:\n",
      "--> 1.2693809465402774\n"
     ]
    }
   ],
   "source": [
    "answer_e = task_e(vector, m, u, n)\n",
    "print(f\"Найдите среднее время в очереди:\\n--> {answer_e}\")"
   ]
  },
  {
   "cell_type": "markdown",
   "metadata": {},
   "source": [
    "#### Задание f\n",
    "Найдите среднее число занятых каналов"
   ]
  },
  {
   "cell_type": "code",
   "execution_count": 19,
   "metadata": {},
   "outputs": [
    {
     "name": "stdout",
     "output_type": "stream",
     "text": [
      "Найдите среднее число занятых каналов:\n",
      "--> 6.996198419493287\n"
     ]
    }
   ],
   "source": [
    "answer_f = task_f(vector, m, n)\n",
    "print(f\"Найдите среднее число занятых каналов:\\n--> {answer_f}\")"
   ]
  },
  {
   "cell_type": "markdown",
   "metadata": {},
   "source": [
    "#### Задание g\n",
    "Найдите вероятность того, что поступающая заявка не будет ждать в очереди."
   ]
  },
  {
   "cell_type": "code",
   "execution_count": 20,
   "metadata": {},
   "outputs": [
    {
     "name": "stdout",
     "output_type": "stream",
     "text": [
      "Найдите вероятность того, что поступающая заявка не будет ждать в очереди:\n",
      "--> 0.002060310810089949\n"
     ]
    }
   ],
   "source": [
    "answer_g = task_g(vector, m)\n",
    "print(f\"Найдите вероятность того, что поступающая заявка не будет ждать в очереди:\\n--> {answer_g}\")"
   ]
  },
  {
   "cell_type": "markdown",
   "metadata": {},
   "source": [
    "#### Задание h\n",
    "Найти среднее время простоя системы массового обслуживания."
   ]
  },
  {
   "cell_type": "code",
   "execution_count": 21,
   "metadata": {},
   "outputs": [
    {
     "name": "stdout",
     "output_type": "stream",
     "text": [
      "Найти среднее время простоя системы массового обслуживания:\n",
      "--> 0.1\n"
     ]
    }
   ],
   "source": [
    "answer_h = task_h(matrix)\n",
    "print(f\"Найти среднее время простоя системы массового обслуживания:\\n--> {answer_h[0]}\")"
   ]
  }
 ],
 "metadata": {
  "kernelspec": {
   "display_name": "Python 3.7.0 64-bit",
   "language": "python",
   "name": "python37064bit2871f4995e164d798b4e1a5e13988caf"
  },
  "language_info": {
   "codemirror_mode": {
    "name": "ipython",
    "version": 3
   },
   "file_extension": ".py",
   "mimetype": "text/x-python",
   "name": "python",
   "nbconvert_exporter": "python",
   "pygments_lexer": "ipython3",
   "version": "3.7.0"
  }
 },
 "nbformat": 4,
 "nbformat_minor": 4
}
